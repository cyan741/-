{
 "cells": [
  {
   "cell_type": "code",
   "execution_count": 1,
   "metadata": {},
   "outputs": [],
   "source": [
    "import json\n",
    "from typing import Dict, List\n",
    "def create_web_list(url:str, institution:str, dtype:str, file_lists_locator:Dict, single_file_locator:List):\n",
    "    data = [\n",
    "        {\n",
    "        \"url\": url,\n",
    "        \"institution\": institution,\n",
    "        \"type\": dtype,\n",
    "        \"file_lists_locator\": file_lists_locator,\n",
    "        \"single_file_locator\": single_file_locator\n",
    "    }\n",
    "    ]\n",
    "    with open(\"web_list.json\",'w',encoding=\"utf-8\") as f:\n",
    "        json.dump(data, f, ensure_ascii=False, indent=4)\n",
    "\n",
    "    print(\"Create web list done!\")\n",
    "\n",
    "def add2web_list(url:str, institution:str, dtype:str, file_lists_locator:Dict, single_file_locator:List):\n",
    "    new_data = {\n",
    "        \"url\": url,\n",
    "        \"institution\": institution,\n",
    "        \"type\": dtype,\n",
    "        \"file_lists_locator\": file_lists_locator,\n",
    "        \"single_file_locator\": single_file_locator\n",
    "    }\n",
    "    \n",
    "    with open(\"web_list.json\",'r', encoding=\"utf-8\") as f:\n",
    "        data = json.load(f)\n",
    "    data.append(new_data)\n",
    "\n",
    "    with open(\"web_list.json\",'w',encoding=\"utf-8\") as f:\n",
    "        json.dump(data, f, ensure_ascii=False, indent=4)\n",
    "    print(\"Add to web list done!\")\n",
    "    "
   ]
  },
  {
   "cell_type": "code",
   "execution_count": null,
   "metadata": {},
   "outputs": [],
   "source": [
    "url = \"https://saids.ustc.edu.cn/15435/list{page_num}.htm\"\n",
    "institution = \"大数据学院\"\n",
    "dtype = None\n",
    "file_lists_locator = {\n",
    "    \"method\": \"find_all\",\n",
    "    \"tag\": \"span\",\n",
    "    \"class_\": \"Article_Title\"\n",
    "}\n",
    "single_file_locator = [{\n",
    "    \"info\": \"title\",\n",
    "    # \"method\": \"find\",\n",
    "    \"tag\": \"a\",\n",
    "    \"class_\": 'title'\n",
    "},\n",
    "{\n",
    "    \"info\": \"link\",\n",
    "    # \"method\": \"find\",\n",
    "    \"tag\": \"a\",\n",
    "    \"class_\": \"href\"\n",
    "},]\n",
    "create_web_list(url, institution, dtype, file_lists_locator, single_file_locator)"
   ]
  },
  {
   "cell_type": "code",
   "execution_count": null,
   "metadata": {},
   "outputs": [],
   "source": [
    "url = \"https://finance.ustc.edu.cn/xzzx/list{page_num}.psp\"\n",
    "institution = \"财务处\"\n",
    "dtype = None\n",
    "file_lists_locator = {\n",
    "    \"method\": \"find_all\",\n",
    "    \"tag\": \"span\",\n",
    "    \"class_\": \"news_title\"\n",
    "}\n",
    "single_file_locator = [{\n",
    "    \"info\": \"title\",\n",
    "    # \"method\": \"find\",\n",
    "    \"tag\": \"a\",\n",
    "    \"class_\": 'title'\n",
    "},\n",
    "{\n",
    "    \"info\": \"link\",\n",
    "    # \"method\": \"find\",\n",
    "    \"tag\": \"a\",\n",
    "    \"class_\": \"href\"\n",
    "},]\n",
    "add2web_list(url, institution, dtype, file_lists_locator, single_file_locator)\n"
   ]
  },
  {
   "cell_type": "code",
   "execution_count": 3,
   "metadata": {},
   "outputs": [
    {
     "name": "stdout",
     "output_type": "stream",
     "text": [
      "Add to web list done!\n"
     ]
    }
   ],
   "source": [
    "url = \"https://stuhome.ustc.edu.cn/2310/list{page_num}.htm\"\n",
    "institution = \"学工在线\"\n",
    "dtype = None\n",
    "file_lists_locator = {\n",
    "    \"method\": \"find_all\",\n",
    "    \"tag\": \"span\",\n",
    "    \"class_\": \"news_title\"\n",
    "}\n",
    "single_file_locator = [{\n",
    "    \"info\": \"title\",\n",
    "    # \"method\": \"find\",\n",
    "    \"tag\": \"a\",\n",
    "    \"class_\": 'title'\n",
    "},\n",
    "{\n",
    "    \"info\": \"link\",\n",
    "    # \"method\": \"find\",\n",
    "    \"tag\": \"a\",\n",
    "    \"class_\": \"href\"\n",
    "},]\n",
    "add2web_list(url, institution, dtype, file_lists_locator, single_file_locator)"
   ]
  },
  {
   "cell_type": "code",
   "execution_count": 4,
   "metadata": {},
   "outputs": [
    {
     "name": "stdout",
     "output_type": "stream",
     "text": [
      "Add to web list done!\n"
     ]
    }
   ],
   "source": [
    "url = \"https://bwc.ustc.edu.cn/5655/list{page_num}.htm\"\n",
    "institution = \"保卫与校园管理处\"\n",
    "dtype = None\n",
    "file_lists_locator = {\n",
    "    \"method\": \"find_all\",\n",
    "    \"tag\": \"li\",\n",
    "    \"class_\": \"list-group-item\"\n",
    "}\n",
    "single_file_locator = [{\n",
    "    \"info\": \"title\",\n",
    "    # \"method\": \"find\",\n",
    "    \"tag\": \"a\",\n",
    "    \"class_\": 'title'\n",
    "},\n",
    "{\n",
    "    \"info\": \"link\",\n",
    "    # \"method\": \"find\",\n",
    "    \"tag\": \"a\",\n",
    "    \"class_\": \"href\"\n",
    "},]\n",
    "add2web_list(url, institution, dtype, file_lists_locator, single_file_locator)"
   ]
  },
  {
   "cell_type": "code",
   "execution_count": 5,
   "metadata": {},
   "outputs": [
    {
     "name": "stdout",
     "output_type": "stream",
     "text": [
      "Add to web list done!\n"
     ]
    }
   ],
   "source": [
    "url = \"http://zhb.ustc.edu.cn/18534/list{page_num}.htm\"\n",
    "institution = \"科技成果转移转化办公室\"\n",
    "dtype = None\n",
    "file_lists_locator = {\n",
    "    \"method\": \"find_all\",\n",
    "    \"tag\": \"span\",\n",
    "    \"class_\": \"Article_Title\"\n",
    "}\n",
    "single_file_locator = [{\n",
    "    \"info\": \"title\",\n",
    "    # \"method\": \"find\",\n",
    "    \"tag\": \"a\",\n",
    "    \"class_\": 'title'\n",
    "},\n",
    "{\n",
    "    \"info\": \"link\",\n",
    "    # \"method\": \"find\",\n",
    "    \"tag\": \"a\",\n",
    "    \"class_\": \"href\"\n",
    "},]\n",
    "add2web_list(url, institution, dtype, file_lists_locator, single_file_locator)"
   ]
  },
  {
   "cell_type": "code",
   "execution_count": 6,
   "metadata": {},
   "outputs": [
    {
     "name": "stdout",
     "output_type": "stream",
     "text": [
      "Add to web list done!\n"
     ]
    }
   ],
   "source": [
    "url = \"http://young.ustc.edu.cn/15056/list{page_num}.htm\"\n",
    "institution = \"青春科大\"\n",
    "dtype = None\n",
    "file_lists_locator = {\n",
    "    \"method\": \"find_all\",\n",
    "    \"tag\": \"li\",\n",
    "    \"class_\": \"text-li cf2\"\n",
    "}\n",
    "single_file_locator = [{\n",
    "    \"info\": \"title\",\n",
    "    # \"method\": \"find\",\n",
    "    \"tag\": \"a\",\n",
    "    \"class_\": 'title'\n",
    "},\n",
    "{\n",
    "    \"info\": \"link\",\n",
    "    # \"method\": \"find\",\n",
    "    \"tag\": \"a\",\n",
    "    \"class_\": \"href\"\n",
    "},]\n",
    "add2web_list(url, institution, dtype, file_lists_locator, single_file_locator)"
   ]
  },
  {
   "cell_type": "code",
   "execution_count": 7,
   "metadata": {},
   "outputs": [
    {
     "name": "stdout",
     "output_type": "stream",
     "text": [
      "Add to web list done!\n"
     ]
    }
   ],
   "source": [
    "url = \"http://cs.ustc.edu.cn/20158/list{page_num}.psp\"\n",
    "institution = \"计算机科学技术学院\"\n",
    "dtype = None\n",
    "file_lists_locator = {\n",
    "    \"method\": \"find_all\",\n",
    "    \"tag\": \"span\",\n",
    "    \"class_\": \"news_title\"\n",
    "}\n",
    "single_file_locator = [{\n",
    "    \"info\": \"title\",\n",
    "    # \"method\": \"find\",\n",
    "    \"tag\": \"a\",\n",
    "    \"class_\": 'title'\n",
    "},\n",
    "{\n",
    "    \"info\": \"link\",\n",
    "    # \"method\": \"find\",\n",
    "    \"tag\": \"a\",\n",
    "    \"class_\": \"href\"\n",
    "},]\n",
    "add2web_list(url, institution, dtype, file_lists_locator, single_file_locator)"
   ]
  },
  {
   "cell_type": "code",
   "execution_count": 8,
   "metadata": {},
   "outputs": [
    {
     "name": "stdout",
     "output_type": "stream",
     "text": [
      "Add to web list done!\n"
     ]
    }
   ],
   "source": [
    "url = \"http://cybersec.ustc.edu.cn/zlxz_23830/list{page_num}.psp\"\n",
    "institution = \"网络空间安全学院\"\n",
    "dtype = None\n",
    "file_lists_locator = {\n",
    "    \"method\": \"find_all\",\n",
    "    \"tag\": \"li\",\n",
    "    \"class_\": \"cle\"\n",
    "}\n",
    "single_file_locator = [{\n",
    "    \"info\": \"title\",\n",
    "    # \"method\": \"find\",\n",
    "    \"tag\": \"a\",\n",
    "    \"class_\": 'title'\n",
    "},\n",
    "{\n",
    "    \"info\": \"link\",\n",
    "    # \"method\": \"find\",\n",
    "    \"tag\": \"a\",\n",
    "    \"class_\": \"href\"\n",
    "},]\n",
    "add2web_list(url, institution, dtype, file_lists_locator, single_file_locator)"
   ]
  },
  {
   "cell_type": "code",
   "execution_count": 9,
   "metadata": {},
   "outputs": [
    {
     "name": "stdout",
     "output_type": "stream",
     "text": [
      "Add to web list done!\n"
     ]
    }
   ],
   "source": [
    "url = \"https://math.ustc.edu.cn/wswd/list{page_num}.htm\"\n",
    "institution = \"数学科学学院\"\n",
    "dtype = \"外事文件\"\n",
    "file_lists_locator = {\n",
    "    \"method\": \"find_all\",\n",
    "    \"tag\": \"span\",\n",
    "    \"class_\": \"Article_Title\"\n",
    "}\n",
    "single_file_locator = [{\n",
    "    \"info\": \"title\",\n",
    "    # \"method\": \"find\",\n",
    "    \"tag\": \"a\",\n",
    "    \"class_\": 'title'\n",
    "},\n",
    "{\n",
    "    \"info\": \"link\",\n",
    "    # \"method\": \"find\",\n",
    "    \"tag\": \"a\",\n",
    "    \"class_\": \"href\"\n",
    "},]\n",
    "add2web_list(url, institution, dtype, file_lists_locator, single_file_locator)"
   ]
  },
  {
   "cell_type": "code",
   "execution_count": 10,
   "metadata": {},
   "outputs": [
    {
     "name": "stdout",
     "output_type": "stream",
     "text": [
      "Add to web list done!\n"
     ]
    }
   ],
   "source": [
    "url = \"https://math.ustc.edu.cn/tszy/list{page_num}.htm\"\n",
    "institution = \"数学科学学院\"\n",
    "dtype = \"图书资源\"\n",
    "file_lists_locator = {\n",
    "    \"method\": \"find_all\",\n",
    "    \"tag\": \"span\",\n",
    "    \"class_\": \"Article_Title\"\n",
    "}\n",
    "single_file_locator = [{\n",
    "    \"info\": \"title\",\n",
    "    # \"method\": \"find\",\n",
    "    \"tag\": \"a\",\n",
    "    \"class_\": 'title'\n",
    "},\n",
    "{\n",
    "    \"info\": \"link\",\n",
    "    # \"method\": \"find\",\n",
    "    \"tag\": \"a\",\n",
    "    \"class_\": \"href\"\n",
    "},]\n",
    "add2web_list(url, institution, dtype, file_lists_locator, single_file_locator)"
   ]
  },
  {
   "cell_type": "code",
   "execution_count": 11,
   "metadata": {},
   "outputs": [
    {
     "name": "stdout",
     "output_type": "stream",
     "text": [
      "Add to web list done!\n"
     ]
    }
   ],
   "source": [
    "url = \"https://math.ustc.edu.cn/gkkzy/list{page_num}.htm\"\n",
    "institution = \"数学科学学院\"\n",
    "dtype = \"公开课资源\"\n",
    "file_lists_locator = {\n",
    "    \"method\": \"find_all\",\n",
    "    \"tag\": \"span\",\n",
    "    \"class_\": \"Article_Title\"\n",
    "}\n",
    "single_file_locator = [{\n",
    "    \"info\": \"title\",\n",
    "    # \"method\": \"find\",\n",
    "    \"tag\": \"a\",\n",
    "    \"class_\": 'title'\n",
    "},\n",
    "{\n",
    "    \"info\": \"link\",\n",
    "    # \"method\": \"find\",\n",
    "    \"tag\": \"a\",\n",
    "    \"class_\": \"href\"\n",
    "},]\n",
    "add2web_list(url, institution, dtype, file_lists_locator, single_file_locator)"
   ]
  },
  {
   "cell_type": "code",
   "execution_count": 13,
   "metadata": {},
   "outputs": [
    {
     "name": "stdout",
     "output_type": "stream",
     "text": [
      "Add to web list done!\n"
     ]
    }
   ],
   "source": [
    "url = \"http://press.ustc.edu.cn/tgxz/list{page_num}.htm\"\n",
    "institution = \"出版社\"\n",
    "dtype = \"投稿须知\"\n",
    "file_lists_locator = {\n",
    "    \"method\": \"find_all\",\n",
    "    \"tag\": \"h2\",\n",
    "    \"class_\": \"node-title\"\n",
    "}\n",
    "single_file_locator = [{\n",
    "    \"info\": \"title\",\n",
    "    # \"method\": \"find\",\n",
    "    \"tag\": \"a\",\n",
    "    \"class_\": None\n",
    "},\n",
    "{\n",
    "    \"info\": \"link\",\n",
    "    # \"method\": \"find\",\n",
    "    \"tag\": \"a\",\n",
    "    \"class_\": \"href\"\n",
    "},]\n",
    "add2web_list(url, institution, dtype, file_lists_locator, single_file_locator)"
   ]
  },
  {
   "cell_type": "code",
   "execution_count": 14,
   "metadata": {},
   "outputs": [
    {
     "name": "stdout",
     "output_type": "stream",
     "text": [
      "Add to web list done!\n"
     ]
    }
   ],
   "source": [
    "url = \"http://press.ustc.edu.cn/xtxxb/list{page_num}.htm\"\n",
    "institution = \"出版社\"\n",
    "dtype = \"选题信息表\"\n",
    "file_lists_locator = {\n",
    "    \"method\": \"find_all\",\n",
    "    \"tag\": \"h2\",\n",
    "    \"class_\": \"node-title\"\n",
    "}\n",
    "single_file_locator = [{\n",
    "    \"info\": \"title\",\n",
    "    # \"method\": \"find\",\n",
    "    \"tag\": \"a\",\n",
    "    \"class_\": None\n",
    "},\n",
    "{\n",
    "    \"info\": \"link\",\n",
    "    # \"method\": \"find\",\n",
    "    \"tag\": \"a\",\n",
    "    \"class_\": \"href\"\n",
    "},]\n",
    "add2web_list(url, institution, dtype, file_lists_locator, single_file_locator)"
   ]
  },
  {
   "cell_type": "code",
   "execution_count": 15,
   "metadata": {},
   "outputs": [
    {
     "name": "stdout",
     "output_type": "stream",
     "text": [
      "Add to web list done!\n"
     ]
    }
   ],
   "source": [
    "url = \"http://press.ustc.edu.cn/bzgf/list{page_num}.htm\"\n",
    "institution = \"出版社\"\n",
    "dtype = \"标准规范\"\n",
    "file_lists_locator = {\n",
    "    \"method\": \"find_all\",\n",
    "    \"tag\": \"h2\",\n",
    "    \"class_\": \"node-title\"\n",
    "}\n",
    "single_file_locator = [{\n",
    "    \"info\": \"title\",\n",
    "    # \"method\": \"find\",\n",
    "    \"tag\": \"a\",\n",
    "    \"class_\": None\n",
    "},\n",
    "{\n",
    "    \"info\": \"link\",\n",
    "    # \"method\": \"find\",\n",
    "    \"tag\": \"a\",\n",
    "    \"class_\": \"href\"\n",
    "},]\n",
    "add2web_list(url, institution, dtype, file_lists_locator, single_file_locator)"
   ]
  },
  {
   "cell_type": "code",
   "execution_count": 16,
   "metadata": {},
   "outputs": [
    {
     "name": "stdout",
     "output_type": "stream",
     "text": [
      "Add to web list done!\n"
     ]
    }
   ],
   "source": [
    "url = \"http://press.ustc.edu.cn/wjfg/list{page_num}.htm\"\n",
    "institution = \"出版社\"\n",
    "dtype = \"文件法规\"\n",
    "file_lists_locator = {\n",
    "    \"method\": \"find_all\",\n",
    "    \"tag\": \"h2\",\n",
    "    \"class_\": \"node-title\"\n",
    "}\n",
    "single_file_locator = [{\n",
    "    \"info\": \"title\",\n",
    "    # \"method\": \"find\",\n",
    "    \"tag\": \"a\",\n",
    "    \"class_\": None\n",
    "},\n",
    "{\n",
    "    \"info\": \"link\",\n",
    "    # \"method\": \"find\",\n",
    "    \"tag\": \"a\",\n",
    "    \"class_\": \"href\"\n",
    "},]\n",
    "add2web_list(url, institution, dtype, file_lists_locator, single_file_locator)"
   ]
  },
  {
   "cell_type": "code",
   "execution_count": 17,
   "metadata": {},
   "outputs": [
    {
     "name": "stdout",
     "output_type": "stream",
     "text": [
      "Add to web list done!\n"
     ]
    }
   ],
   "source": [
    "url = \"http://press.ustc.edu.cn/jxzy/list{page_num}.htm\"\n",
    "institution = \"出版社\"\n",
    "dtype = \"教学资源\"\n",
    "file_lists_locator = {\n",
    "    \"method\": \"find_all\",\n",
    "    \"tag\": \"h2\",\n",
    "    \"class_\": \"node-title\"\n",
    "}\n",
    "single_file_locator = [{\n",
    "    \"info\": \"title\",\n",
    "    # \"method\": \"find\",\n",
    "    \"tag\": \"a\",\n",
    "    \"class_\": None\n",
    "},\n",
    "{\n",
    "    \"info\": \"link\",\n",
    "    # \"method\": \"find\",\n",
    "    \"tag\": \"a\",\n",
    "    \"class_\": \"href\"\n",
    "},]\n",
    "add2web_list(url, institution, dtype, file_lists_locator, single_file_locator)"
   ]
  },
  {
   "cell_type": "code",
   "execution_count": 18,
   "metadata": {},
   "outputs": [
    {
     "name": "stdout",
     "output_type": "stream",
     "text": [
      "Add to web list done!\n"
     ]
    }
   ],
   "source": [
    "url = \"https://ispc.ustc.edu.cn/6299/list{page_num}.psp\"\n",
    "institution = \"信息科学试验中心\"\n",
    "dtype = \"申请与登记\"\n",
    "file_lists_locator = {\n",
    "    \"method\": \"find_all\",\n",
    "    \"tag\": \"span\",\n",
    "    \"class_\": \"time\"\n",
    "}\n",
    "single_file_locator = [{\n",
    "    \"info\": \"title\",\n",
    "    # \"method\": \"find\",\n",
    "    \"tag\": \"a\",\n",
    "    \"class_\": \"title\"\n",
    "},\n",
    "{\n",
    "    \"info\": \"link\",\n",
    "    # \"method\": \"find\",\n",
    "    \"tag\": \"a\",\n",
    "    \"class_\": \"href\"\n",
    "},]\n",
    "add2web_list(url, institution, dtype, file_lists_locator, single_file_locator)"
   ]
  },
  {
   "cell_type": "code",
   "execution_count": 19,
   "metadata": {},
   "outputs": [
    {
     "name": "stdout",
     "output_type": "stream",
     "text": [
      "Add to web list done!\n"
     ]
    }
   ],
   "source": [
    "url = \"https://ispc.ustc.edu.cn/6298/list{page_num}.psp\"\n",
    "institution = \"信息科学试验中心\"\n",
    "dtype = \"类别：技术文档\"\n",
    "file_lists_locator = {\n",
    "    \"method\": \"find_all\",\n",
    "    \"tag\": \"span\",\n",
    "    \"class_\": \"time\"\n",
    "}\n",
    "single_file_locator = [{\n",
    "    \"info\": \"title\",\n",
    "    # \"method\": \"find\",\n",
    "    \"tag\": \"a\",\n",
    "    \"class_\": \"title\"\n",
    "},\n",
    "{\n",
    "    \"info\": \"link\",\n",
    "    # \"method\": \"find\",\n",
    "    \"tag\": \"a\",\n",
    "    \"class_\": \"href\"\n",
    "},]\n",
    "add2web_list(url, institution, dtype, file_lists_locator, single_file_locator)"
   ]
  },
  {
   "cell_type": "code",
   "execution_count": 20,
   "metadata": {},
   "outputs": [
    {
     "name": "stdout",
     "output_type": "stream",
     "text": [
      "Add to web list done!\n"
     ]
    }
   ],
   "source": [
    "url = \"http://ustcnet.ustc.edu.cn/33489/list{page_num}.psp\"\n",
    "institution = \"网络信息中心\"\n",
    "dtype = \"规章制度\"\n",
    "file_lists_locator = {\n",
    "    \"method\": \"find_all\",\n",
    "    \"tag\": \"span\",\n",
    "    \"class_\": \"news_title\"\n",
    "}\n",
    "single_file_locator = [{\n",
    "    \"info\": \"title\",\n",
    "    # \"method\": \"find\",\n",
    "    \"tag\": \"a\",\n",
    "    \"class_\": \"title\"\n",
    "},\n",
    "{\n",
    "    \"info\": \"link\",\n",
    "    # \"method\": \"find\",\n",
    "    \"tag\": \"a\",\n",
    "    \"class_\": \"href\"\n",
    "},]\n",
    "add2web_list(url, institution, dtype, file_lists_locator, single_file_locator)"
   ]
  },
  {
   "cell_type": "code",
   "execution_count": 21,
   "metadata": {},
   "outputs": [
    {
     "name": "stdout",
     "output_type": "stream",
     "text": [
      "Add to web list done!\n"
     ]
    }
   ],
   "source": [
    "url = \"http://ustcnet.ustc.edu.cn/33490/list{page_num}.psp\"\n",
    "institution = \"网络信息中心\"\n",
    "dtype = \"网字文件\"\n",
    "file_lists_locator = {\n",
    "    \"method\": \"find_all\",\n",
    "    \"tag\": \"span\",\n",
    "    \"class_\": \"news_title\"\n",
    "}\n",
    "single_file_locator = [{\n",
    "    \"info\": \"title\",\n",
    "    # \"method\": \"find\",\n",
    "    \"tag\": \"a\",\n",
    "    \"class_\": \"title\"\n",
    "},\n",
    "{\n",
    "    \"info\": \"link\",\n",
    "    # \"method\": \"find\",\n",
    "    \"tag\": \"a\",\n",
    "    \"class_\": \"href\"\n",
    "},]\n",
    "add2web_list(url, institution, dtype, file_lists_locator, single_file_locator)"
   ]
  },
  {
   "cell_type": "code",
   "execution_count": 22,
   "metadata": {},
   "outputs": [
    {
     "name": "stdout",
     "output_type": "stream",
     "text": [
      "Add to web list done!\n"
     ]
    }
   ],
   "source": [
    "url = \"http://ustcnet.ustc.edu.cn/33491/list{page_num}.psp\"\n",
    "institution = \"网络信息中心\"\n",
    "dtype = \"校网字文件\"\n",
    "file_lists_locator = {\n",
    "    \"method\": \"find_all\",\n",
    "    \"tag\": \"span\",\n",
    "    \"class_\": \"news_title\"\n",
    "}\n",
    "single_file_locator = [{\n",
    "    \"info\": \"title\",\n",
    "    # \"method\": \"find\",\n",
    "    \"tag\": \"a\",\n",
    "    \"class_\": \"title\"\n",
    "},\n",
    "{\n",
    "    \"info\": \"link\",\n",
    "    # \"method\": \"find\",\n",
    "    \"tag\": \"a\",\n",
    "    \"class_\": \"href\"\n",
    "},]\n",
    "add2web_list(url, institution, dtype, file_lists_locator, single_file_locator)"
   ]
  },
  {
   "cell_type": "code",
   "execution_count": 23,
   "metadata": {},
   "outputs": [
    {
     "name": "stdout",
     "output_type": "stream",
     "text": [
      "Add to web list done!\n"
     ]
    }
   ],
   "source": [
    "url = \"http://ustcnet.ustc.edu.cn/33492/list{page_num}.psp\"\n",
    "institution = \"网络信息中心\"\n",
    "dtype = \"类别：相关文件\"\n",
    "file_lists_locator = {\n",
    "    \"method\": \"find_all\",\n",
    "    \"tag\": \"span\",\n",
    "    \"class_\": \"news_title\"\n",
    "}\n",
    "single_file_locator = [{\n",
    "    \"info\": \"title\",\n",
    "    # \"method\": \"find\",\n",
    "    \"tag\": \"a\",\n",
    "    \"class_\": \"title\"\n",
    "},\n",
    "{\n",
    "    \"info\": \"link\",\n",
    "    # \"method\": \"find\",\n",
    "    \"tag\": \"a\",\n",
    "    \"class_\": \"href\"\n",
    "},]\n",
    "add2web_list(url, institution, dtype, file_lists_locator, single_file_locator)"
   ]
  },
  {
   "cell_type": "code",
   "execution_count": 25,
   "metadata": {},
   "outputs": [
    {
     "name": "stdout",
     "output_type": "stream",
     "text": [
      "Add to web list done!\n"
     ]
    }
   ],
   "source": [
    "url = \"https://zhc.ustc.edu.cn/zcgll/list{page_num}.htm\"\n",
    "institution = \"资产与后勤保障处\"\n",
    "dtype = \"资产管理类\"\n",
    "file_lists_locator = {\n",
    "    \"method\": \"find_all\",\n",
    "    \"tag\": \"li\",\n",
    "    \"class_\": \"cle\"\n",
    "}\n",
    "single_file_locator = [{\n",
    "    \"info\": \"title\",\n",
    "    # \"method\": \"find\",\n",
    "    \"tag\": \"div\",\n",
    "    \"class_\": \"fl text txtov\"\n",
    "},\n",
    "{\n",
    "    \"info\": \"link\",\n",
    "    # \"method\": \"find\",\n",
    "    \"tag\": \"a\",\n",
    "    \"class_\": \"href\"\n",
    "},]\n",
    "add2web_list(url, institution, dtype, file_lists_locator, single_file_locator)"
   ]
  },
  {
   "cell_type": "code",
   "execution_count": 26,
   "metadata": {},
   "outputs": [
    {
     "name": "stdout",
     "output_type": "stream",
     "text": [
      "Add to web list done!\n"
     ]
    }
   ],
   "source": [
    "url = \"https://zhc.ustc.edu.cn/fcgll/list{page_num}.htm\"\n",
    "institution = \"资产与后勤保障处\"\n",
    "dtype = \"房产管理类\"\n",
    "file_lists_locator = {\n",
    "    \"method\": \"find_all\",\n",
    "    \"tag\": \"li\",\n",
    "    \"class_\": \"cle\"\n",
    "}\n",
    "single_file_locator = [{\n",
    "    \"info\": \"title\",\n",
    "    # \"method\": \"find\",\n",
    "    \"tag\": \"div\",\n",
    "    \"class_\": \"fl text txtov\"\n",
    "},\n",
    "{\n",
    "    \"info\": \"link\",\n",
    "    # \"method\": \"find\",\n",
    "    \"tag\": \"a\",\n",
    "    \"class_\": \"href\"\n",
    "},]\n",
    "add2web_list(url, institution, dtype, file_lists_locator, single_file_locator)"
   ]
  },
  {
   "cell_type": "code",
   "execution_count": 27,
   "metadata": {},
   "outputs": [
    {
     "name": "stdout",
     "output_type": "stream",
     "text": [
      "Add to web list done!\n"
     ]
    }
   ],
   "source": [
    "url = \"https://zhc.ustc.edu.cn/cggll/list{page_num}.htm\"\n",
    "institution = \"资产与后勤保障处\"\n",
    "dtype = \"采购管理类\"\n",
    "file_lists_locator = {\n",
    "    \"method\": \"find_all\",\n",
    "    \"tag\": \"li\",\n",
    "    \"class_\": \"cle\"\n",
    "}\n",
    "single_file_locator = [{\n",
    "    \"info\": \"title\",\n",
    "    # \"method\": \"find\",\n",
    "    \"tag\": \"div\",\n",
    "    \"class_\": \"fl text txtov\"\n",
    "},\n",
    "{\n",
    "    \"info\": \"link\",\n",
    "    # \"method\": \"find\",\n",
    "    \"tag\": \"a\",\n",
    "    \"class_\": \"href\"\n",
    "},]\n",
    "add2web_list(url, institution, dtype, file_lists_locator, single_file_locator)"
   ]
  },
  {
   "cell_type": "code",
   "execution_count": 28,
   "metadata": {},
   "outputs": [
    {
     "name": "stdout",
     "output_type": "stream",
     "text": [
      "Add to web list done!\n"
     ]
    }
   ],
   "source": [
    "url = \"https://zhc.ustc.edu.cn/hqbzyzhgll/list{page_num}.htm\"\n",
    "institution = \"资产与后勤保障处\"\n",
    "dtype = \"后勤保障与综合管理类\"\n",
    "file_lists_locator = {\n",
    "    \"method\": \"find_all\",\n",
    "    \"tag\": \"li\",\n",
    "    \"class_\": \"cle\"\n",
    "}\n",
    "single_file_locator = [{\n",
    "    \"info\": \"title\",\n",
    "    # \"method\": \"find\",\n",
    "    \"tag\": \"div\",\n",
    "    \"class_\": \"fl text txtov\"\n",
    "},\n",
    "{\n",
    "    \"info\": \"link\",\n",
    "    # \"method\": \"find\",\n",
    "    \"tag\": \"a\",\n",
    "    \"class_\": \"href\"\n",
    "},]\n",
    "add2web_list(url, institution, dtype, file_lists_locator, single_file_locator)"
   ]
  },
  {
   "cell_type": "code",
   "execution_count": 29,
   "metadata": {},
   "outputs": [
    {
     "name": "stdout",
     "output_type": "stream",
     "text": [
      "Add to web list done!\n"
     ]
    }
   ],
   "source": [
    "url = \"https://sist.ustc.edu.cn/5111/list{page_num}.htm\"\n",
    "institution = \"信息科学技术学院\"\n",
    "dtype = \"本科生教育\"\n",
    "file_lists_locator = {\n",
    "    \"method\": \"find_all\",\n",
    "    \"tag\": \"h5\",\n",
    "    \"class_\": \"card-title fs-semibold text-truncate\"\n",
    "}\n",
    "single_file_locator = [{\n",
    "    \"info\": \"title\",\n",
    "    # \"method\": \"find\",\n",
    "    \"tag\": \"a\",\n",
    "    \"class_\": \"title\"\n",
    "},\n",
    "{\n",
    "    \"info\": \"link\",\n",
    "    # \"method\": \"find\",\n",
    "    \"tag\": \"a\",\n",
    "    \"class_\": \"href\"\n",
    "},]\n",
    "add2web_list(url, institution, dtype, file_lists_locator, single_file_locator)"
   ]
  },
  {
   "cell_type": "code",
   "execution_count": 30,
   "metadata": {},
   "outputs": [
    {
     "name": "stdout",
     "output_type": "stream",
     "text": [
      "Add to web list done!\n"
     ]
    }
   ],
   "source": [
    "url = \"https://sist.ustc.edu.cn/5104/list{page_num}.htm\"\n",
    "institution = \"信息科学技术学院\"\n",
    "dtype = \"研究生教育\"\n",
    "file_lists_locator = {\n",
    "    \"method\": \"find_all\",\n",
    "    \"tag\": \"h5\",\n",
    "    \"class_\": \"card-title fs-semibold text-truncate\"\n",
    "}\n",
    "single_file_locator = [{\n",
    "    \"info\": \"title\",\n",
    "    # \"method\": \"find\",\n",
    "    \"tag\": \"a\",\n",
    "    \"class_\": \"title\"\n",
    "},\n",
    "{\n",
    "    \"info\": \"link\",\n",
    "    # \"method\": \"find\",\n",
    "    \"tag\": \"a\",\n",
    "    \"class_\": \"href\"\n",
    "},]\n",
    "add2web_list(url, institution, dtype, file_lists_locator, single_file_locator)"
   ]
  },
  {
   "cell_type": "code",
   "execution_count": 31,
   "metadata": {},
   "outputs": [
    {
     "name": "stdout",
     "output_type": "stream",
     "text": [
      "Add to web list done!\n"
     ]
    }
   ],
   "source": [
    "url = \"https://sist.ustc.edu.cn/5128/list{page_num}.htm\"\n",
    "institution = \"信息科学技术学院\"\n",
    "dtype = \"党建工作\"\n",
    "file_lists_locator = {\n",
    "    \"method\": \"find_all\",\n",
    "    \"tag\": \"h5\",\n",
    "    \"class_\": \"card-title fs-semibold text-truncate\"\n",
    "}\n",
    "single_file_locator = [{\n",
    "    \"info\": \"title\",\n",
    "    # \"method\": \"find\",\n",
    "    \"tag\": \"a\",\n",
    "    \"class_\": \"title\"\n",
    "},\n",
    "{\n",
    "    \"info\": \"link\",\n",
    "    # \"method\": \"find\",\n",
    "    \"tag\": \"a\",\n",
    "    \"class_\": \"href\"\n",
    "},]\n",
    "add2web_list(url, institution, dtype, file_lists_locator, single_file_locator)"
   ]
  },
  {
   "cell_type": "code",
   "execution_count": null,
   "metadata": {},
   "outputs": [
    {
     "name": "stdout",
     "output_type": "stream",
     "text": [
      "Add to web list done!\n"
     ]
    }
   ],
   "source": [
    "url = \"https://sist.ustc.edu.cn/5095/list{page_num}.htm\"\n",
    "institution = \"信息科学技术学院\"\n",
    "dtype = \"学习工作\"\n",
    "file_lists_locator = {\n",
    "    \"method\": \"find_all\",\n",
    "    \"tag\": \"h5\",\n",
    "    \"class_\": \"card-title fs-semibold text-truncate\"\n",
    "}\n",
    "single_file_locator = [{\n",
    "    \"info\": \"title\",\n",
    "    # \"method\": \"find\",\n",
    "    \"tag\": \"a\",\n",
    "    \"class_\": \"title\"\n",
    "},\n",
    "{\n",
    "    \"info\": \"link\",\n",
    "    # \"method\": \"find\",\n",
    "    \"tag\": \"a\",\n",
    "    \"class_\": \"href\"\n",
    "},]\n",
    "add2web_list(url, institution, dtype, file_lists_locator, single_file_locator)"
   ]
  },
  {
   "cell_type": "code",
   "execution_count": 33,
   "metadata": {},
   "outputs": [
    {
     "name": "stdout",
     "output_type": "stream",
     "text": [
      "Add to web list done!\n"
     ]
    }
   ],
   "source": [
    "url = \"https://sist.ustc.edu.cn/5085/list{page_num}.htm\"\n",
    "institution = \"信息科学技术学院\"\n",
    "dtype = \"类别：科学研究\"\n",
    "file_lists_locator = {\n",
    "    \"method\": \"find_all\",\n",
    "    \"tag\": \"h5\",\n",
    "    \"class_\": \"card-title fs-semibold text-truncate\"\n",
    "}\n",
    "single_file_locator = [{\n",
    "    \"info\": \"title\",\n",
    "    # \"method\": \"find\",\n",
    "    \"tag\": \"a\",\n",
    "    \"class_\": \"title\"\n",
    "},\n",
    "{\n",
    "    \"info\": \"link\",\n",
    "    # \"method\": \"find\",\n",
    "    \"tag\": \"a\",\n",
    "    \"class_\": \"href\"\n",
    "},]\n",
    "add2web_list(url, institution, dtype, file_lists_locator, single_file_locator)"
   ]
  },
  {
   "cell_type": "code",
   "execution_count": 34,
   "metadata": {},
   "outputs": [
    {
     "name": "stdout",
     "output_type": "stream",
     "text": [
      "Add to web list done!\n"
     ]
    }
   ],
   "source": [
    "url = \"https://sist.ustc.edu.cn/5079/list{page_num}.htm\"\n",
    "institution = \"信息科学技术学院\"\n",
    "dtype = \"信息服务\"\n",
    "file_lists_locator = {\n",
    "    \"method\": \"find_all\",\n",
    "    \"tag\": \"h5\",\n",
    "    \"class_\": \"card-title fs-semibold text-truncate\"\n",
    "}\n",
    "single_file_locator = [{\n",
    "    \"info\": \"title\",\n",
    "    # \"method\": \"find\",\n",
    "    \"tag\": \"a\",\n",
    "    \"class_\": \"title\"\n",
    "},\n",
    "{\n",
    "    \"info\": \"link\",\n",
    "    # \"method\": \"find\",\n",
    "    \"tag\": \"a\",\n",
    "    \"class_\": \"href\"\n",
    "},]\n",
    "add2web_list(url, institution, dtype, file_lists_locator, single_file_locator)"
   ]
  },
  {
   "cell_type": "code",
   "execution_count": 35,
   "metadata": {},
   "outputs": [
    {
     "name": "stdout",
     "output_type": "stream",
     "text": [
      "Add to web list done!\n"
     ]
    }
   ],
   "source": [
    "url = \"https://sse.ustc.edu.cn/19878/list{page_num}.htm\"\n",
    "institution = \"软件学院\"\n",
    "dtype = \"教学管理\"\n",
    "file_lists_locator = {\n",
    "    \"method\": \"find_all\",\n",
    "    \"tag\": \"span\",\n",
    "    \"class_\": \"Article_Title\"\n",
    "}\n",
    "single_file_locator = [{\n",
    "    \"info\": \"title\",\n",
    "    # \"method\": \"find\",\n",
    "    \"tag\": \"a\",\n",
    "    \"class_\": \"title\"\n",
    "},\n",
    "{\n",
    "    \"info\": \"link\",\n",
    "    # \"method\": \"find\",\n",
    "    \"tag\": \"a\",\n",
    "    \"class_\": \"href\"\n",
    "},]\n",
    "add2web_list(url, institution, dtype, file_lists_locator, single_file_locator)"
   ]
  },
  {
   "cell_type": "code",
   "execution_count": 36,
   "metadata": {},
   "outputs": [
    {
     "name": "stdout",
     "output_type": "stream",
     "text": [
      "Add to web list done!\n"
     ]
    }
   ],
   "source": [
    "url = \"https://sse.ustc.edu.cn/19879/list{page_num}.htm\"\n",
    "institution = \"软件学院\"\n",
    "dtype = \"招生管理\"\n",
    "file_lists_locator = {\n",
    "    \"method\": \"find_all\",\n",
    "    \"tag\": \"span\",\n",
    "    \"class_\": \"Article_Title\"\n",
    "}\n",
    "single_file_locator = [{\n",
    "    \"info\": \"title\",\n",
    "    # \"method\": \"find\",\n",
    "    \"tag\": \"a\",\n",
    "    \"class_\": \"title\"\n",
    "},\n",
    "{\n",
    "    \"info\": \"link\",\n",
    "    # \"method\": \"find\",\n",
    "    \"tag\": \"a\",\n",
    "    \"class_\": \"href\"\n",
    "},]\n",
    "add2web_list(url, institution, dtype, file_lists_locator, single_file_locator)"
   ]
  },
  {
   "cell_type": "code",
   "execution_count": 37,
   "metadata": {},
   "outputs": [
    {
     "name": "stdout",
     "output_type": "stream",
     "text": [
      "Add to web list done!\n"
     ]
    }
   ],
   "source": [
    "url = \"https://sse.ustc.edu.cn/19880/list{page_num}.htm\"\n",
    "institution = \"软件学院\"\n",
    "dtype = \"就业管理\"\n",
    "file_lists_locator = {\n",
    "    \"method\": \"find_all\",\n",
    "    \"tag\": \"span\",\n",
    "    \"class_\": \"Article_Title\"\n",
    "}\n",
    "single_file_locator = [{\n",
    "    \"info\": \"title\",\n",
    "    # \"method\": \"find\",\n",
    "    \"tag\": \"a\",\n",
    "    \"class_\": \"title\"\n",
    "},\n",
    "{\n",
    "    \"info\": \"link\",\n",
    "    # \"method\": \"find\",\n",
    "    \"tag\": \"a\",\n",
    "    \"class_\": \"href\"\n",
    "},]\n",
    "add2web_list(url, institution, dtype, file_lists_locator, single_file_locator)"
   ]
  },
  {
   "cell_type": "code",
   "execution_count": 38,
   "metadata": {},
   "outputs": [
    {
     "name": "stdout",
     "output_type": "stream",
     "text": [
      "Add to web list done!\n"
     ]
    }
   ],
   "source": [
    "url = \"https://sse.ustc.edu.cn/19882/list{page_num}.htm\"\n",
    "institution = \"软件学院\"\n",
    "dtype = \"工程实践\"\n",
    "file_lists_locator = {\n",
    "    \"method\": \"find_all\",\n",
    "    \"tag\": \"span\",\n",
    "    \"class_\": \"Article_Title\"\n",
    "}\n",
    "single_file_locator = [{\n",
    "    \"info\": \"title\",\n",
    "    # \"method\": \"find\",\n",
    "    \"tag\": \"a\",\n",
    "    \"class_\": \"title\"\n",
    "},\n",
    "{\n",
    "    \"info\": \"link\",\n",
    "    # \"method\": \"find\",\n",
    "    \"tag\": \"a\",\n",
    "    \"class_\": \"href\"\n",
    "},]\n",
    "add2web_list(url, institution, dtype, file_lists_locator, single_file_locator)"
   ]
  },
  {
   "cell_type": "code",
   "execution_count": 39,
   "metadata": {},
   "outputs": [
    {
     "name": "stdout",
     "output_type": "stream",
     "text": [
      "Add to web list done!\n"
     ]
    }
   ],
   "source": [
    "url = \"https://sse.ustc.edu.cn/19884/list{page_num}.htm\"\n",
    "institution = \"软件学院\"\n",
    "dtype = \"党团建设\"\n",
    "file_lists_locator = {\n",
    "    \"method\": \"find_all\",\n",
    "    \"tag\": \"span\",\n",
    "    \"class_\": \"Article_Title\"\n",
    "}\n",
    "single_file_locator = [{\n",
    "    \"info\": \"title\",\n",
    "    # \"method\": \"find\",\n",
    "    \"tag\": \"a\",\n",
    "    \"class_\": \"title\"\n",
    "},\n",
    "{\n",
    "    \"info\": \"link\",\n",
    "    # \"method\": \"find\",\n",
    "    \"tag\": \"a\",\n",
    "    \"class_\": \"href\"\n",
    "},]\n",
    "add2web_list(url, institution, dtype, file_lists_locator, single_file_locator)"
   ]
  },
  {
   "cell_type": "code",
   "execution_count": 40,
   "metadata": {},
   "outputs": [
    {
     "name": "stdout",
     "output_type": "stream",
     "text": [
      "Add to web list done!\n"
     ]
    }
   ],
   "source": [
    "url = \"https://sse.ustc.edu.cn/19885/list{page_num}.htm\"\n",
    "institution = \"软件学院\"\n",
    "dtype = \"学生管理\"\n",
    "file_lists_locator = {\n",
    "    \"method\": \"find_all\",\n",
    "    \"tag\": \"span\",\n",
    "    \"class_\": \"Article_Title\"\n",
    "}\n",
    "single_file_locator = [{\n",
    "    \"info\": \"title\",\n",
    "    # \"method\": \"find\",\n",
    "    \"tag\": \"a\",\n",
    "    \"class_\": \"title\"\n",
    "},\n",
    "{\n",
    "    \"info\": \"link\",\n",
    "    # \"method\": \"find\",\n",
    "    \"tag\": \"a\",\n",
    "    \"class_\": \"href\"\n",
    "},]\n",
    "add2web_list(url, institution, dtype, file_lists_locator, single_file_locator)"
   ]
  }
 ],
 "metadata": {
  "kernelspec": {
   "display_name": "myenv",
   "language": "python",
   "name": "python3"
  },
  "language_info": {
   "codemirror_mode": {
    "name": "ipython",
    "version": 3
   },
   "file_extension": ".py",
   "mimetype": "text/x-python",
   "name": "python",
   "nbconvert_exporter": "python",
   "pygments_lexer": "ipython3",
   "version": "3.8.18"
  }
 },
 "nbformat": 4,
 "nbformat_minor": 2
}
