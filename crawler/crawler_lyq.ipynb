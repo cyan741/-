{
 "cells": [
  {
   "cell_type": "code",
   "execution_count": 1,
   "metadata": {},
   "outputs": [],
   "source": [
    "from crawler_lyq import Crawler"
   ]
  },
  {
   "cell_type": "code",
   "execution_count": 2,
   "metadata": {},
   "outputs": [
    {
     "name": "stderr",
     "output_type": "stream",
     "text": [
      "100%|██████████| 39/39 [02:49<00:00,  4.34s/it]\n"
     ]
    },
    {
     "data": {
      "text/html": [
       "<div>\n",
       "<style scoped>\n",
       "    .dataframe tbody tr th:only-of-type {\n",
       "        vertical-align: middle;\n",
       "    }\n",
       "\n",
       "    .dataframe tbody tr th {\n",
       "        vertical-align: top;\n",
       "    }\n",
       "\n",
       "    .dataframe thead th {\n",
       "        text-align: right;\n",
       "    }\n",
       "</style>\n",
       "<table border=\"1\" class=\"dataframe\">\n",
       "  <thead>\n",
       "    <tr style=\"text-align: right;\">\n",
       "      <th></th>\n",
       "      <th>title</th>\n",
       "      <th>link</th>\n",
       "    </tr>\n",
       "  </thead>\n",
       "  <tbody>\n",
       "    <tr>\n",
       "      <th>0</th>\n",
       "      <td>Faculty Recruitment for the School of Artifici...</td>\n",
       "      <td>https://saids.ustc.edu.cn/2024/0924/c15435a654...</td>\n",
       "    </tr>\n",
       "    <tr>\n",
       "      <th>1</th>\n",
       "      <td>人工智能与数据科学学院教师招聘</td>\n",
       "      <td>https://saids.ustc.edu.cnhttps://mp.weixin.qq....</td>\n",
       "    </tr>\n",
       "    <tr>\n",
       "      <th>2</th>\n",
       "      <td>人工智能与数据科学学院2024年宋庆龄未来助学金获奖名单公示</td>\n",
       "      <td>https://saids.ustc.edu.cn/2024/1202/c15435a662...</td>\n",
       "    </tr>\n",
       "    <tr>\n",
       "      <th>3</th>\n",
       "      <td>人工智能科技英才班2024 年助学经费评审结果公示</td>\n",
       "      <td>https://saids.ustc.edu.cn/2024/1114/c15435a660...</td>\n",
       "    </tr>\n",
       "    <tr>\n",
       "      <th>4</th>\n",
       "      <td>人工智能与数据科学学院2024年11.25心理健康教育主题活动月 班级活动申报通知</td>\n",
       "      <td>https://saids.ustc.edu.cn/2024/1111/c15435a660...</td>\n",
       "    </tr>\n",
       "    <tr>\n",
       "      <th>...</th>\n",
       "      <td>...</td>\n",
       "      <td>...</td>\n",
       "    </tr>\n",
       "    <tr>\n",
       "      <th>654</th>\n",
       "      <td>一等奖_《踏着先辈的足迹》_李川.doc [2008-10-31]</td>\n",
       "      <td>https://sse.ustc.edu.cn/_upload/article/files/...</td>\n",
       "    </tr>\n",
       "    <tr>\n",
       "      <th>655</th>\n",
       "      <td>2008年软件学院第四届软件设计大赛报名表（二）.doc [2008-06-26]</td>\n",
       "      <td>https://sse.ustc.edu.cn/_upload/article/files/...</td>\n",
       "    </tr>\n",
       "    <tr>\n",
       "      <th>656</th>\n",
       "      <td>2008年软件学院第四届软件设计大赛报名表.doc [2008-05-26]</td>\n",
       "      <td>https://sse.ustc.edu.cn/_upload/article/files/...</td>\n",
       "    </tr>\n",
       "    <tr>\n",
       "      <th>657</th>\n",
       "      <td>Y软件学院优秀研究生奖学金审批表.doc [2008-03-27]</td>\n",
       "      <td>https://sse.ustc.edu.cn/_upload/article/files/...</td>\n",
       "    </tr>\n",
       "    <tr>\n",
       "      <th>658</th>\n",
       "      <td>软件学院研究生会招新报名表.doc [2007-09-10]</td>\n",
       "      <td>https://sse.ustc.edu.cn/_upload/article/files/...</td>\n",
       "    </tr>\n",
       "  </tbody>\n",
       "</table>\n",
       "<p>659 rows × 2 columns</p>\n",
       "</div>"
      ],
      "text/plain": [
       "                                                 title  \\\n",
       "0    Faculty Recruitment for the School of Artifici...   \n",
       "1                                      人工智能与数据科学学院教师招聘   \n",
       "2                       人工智能与数据科学学院2024年宋庆龄未来助学金获奖名单公示   \n",
       "3                            人工智能科技英才班2024 年助学经费评审结果公示   \n",
       "4            人工智能与数据科学学院2024年11.25心理健康教育主题活动月 班级活动申报通知   \n",
       "..                                                 ...   \n",
       "654                  一等奖_《踏着先辈的足迹》_李川.doc [2008-10-31]   \n",
       "655          2008年软件学院第四届软件设计大赛报名表（二）.doc [2008-06-26]   \n",
       "656             2008年软件学院第四届软件设计大赛报名表.doc [2008-05-26]   \n",
       "657                  Y软件学院优秀研究生奖学金审批表.doc [2008-03-27]   \n",
       "658                     软件学院研究生会招新报名表.doc [2007-09-10]   \n",
       "\n",
       "                                                  link  \n",
       "0    https://saids.ustc.edu.cn/2024/0924/c15435a654...  \n",
       "1    https://saids.ustc.edu.cnhttps://mp.weixin.qq....  \n",
       "2    https://saids.ustc.edu.cn/2024/1202/c15435a662...  \n",
       "3    https://saids.ustc.edu.cn/2024/1114/c15435a660...  \n",
       "4    https://saids.ustc.edu.cn/2024/1111/c15435a660...  \n",
       "..                                                 ...  \n",
       "654  https://sse.ustc.edu.cn/_upload/article/files/...  \n",
       "655  https://sse.ustc.edu.cn/_upload/article/files/...  \n",
       "656  https://sse.ustc.edu.cn/_upload/article/files/...  \n",
       "657  https://sse.ustc.edu.cn/_upload/article/files/...  \n",
       "658  https://sse.ustc.edu.cn/_upload/article/files/...  \n",
       "\n",
       "[659 rows x 2 columns]"
      ]
     },
     "execution_count": 2,
     "metadata": {},
     "output_type": "execute_result"
    }
   ],
   "source": [
    "crawler = Crawler()\n",
    "df = crawler.save_results()\n",
    "df"
   ]
  }
 ],
 "metadata": {
  "kernelspec": {
   "display_name": "myenv",
   "language": "python",
   "name": "python3"
  },
  "language_info": {
   "codemirror_mode": {
    "name": "ipython",
    "version": 3
   },
   "file_extension": ".py",
   "mimetype": "text/x-python",
   "name": "python",
   "nbconvert_exporter": "python",
   "pygments_lexer": "ipython3",
   "version": "3.8.18"
  }
 },
 "nbformat": 4,
 "nbformat_minor": 2
}
